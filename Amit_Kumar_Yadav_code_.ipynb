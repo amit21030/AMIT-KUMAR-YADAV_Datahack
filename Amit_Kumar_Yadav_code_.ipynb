{
  "nbformat": 4,
  "nbformat_minor": 0,
  "metadata": {
    "colab": {
      "provenance": []
    },
    "kernelspec": {
      "name": "python3",
      "display_name": "Python 3"
    },
    "language_info": {
      "name": "python"
    }
  },
  "cells": [
    {
      "cell_type": "code",
      "execution_count": 3,
      "metadata": {
        "colab": {
          "base_uri": "https://localhost:8080/"
        },
        "id": "_pywOn1z0u-r",
        "outputId": "67a579fe-506f-4325-e4e7-1307644cb0fd"
      },
      "outputs": [
        {
          "output_type": "stream",
          "name": "stdout",
          "text": [
            "XYZ Vaccine ROC AUC: 0.8577214810963284\n",
            "Seasonal Vaccine ROC AUC: 0.8521805736207897\n"
          ]
        }
      ],
      "source": [
        "import pandas as pd\n",
        "import numpy as np\n",
        "from sklearn.preprocessing import LabelEncoder, StandardScaler\n",
        "from sklearn.ensemble import RandomForestClassifier\n",
        "from sklearn.multioutput import MultiOutputClassifier\n",
        "from sklearn.model_selection import train_test_split, cross_val_score\n",
        "from sklearn.metrics import roc_auc_score\n",
        "\n",
        "# Load datasets\n",
        "train_features = pd.read_csv('training_set_features.csv')\n",
        "train_labels = pd.read_csv('training_set_labels.csv')\n",
        "test_features = pd.read_csv('test_set_features.csv')\n",
        "\n",
        "# Merge training features and labels\n",
        "train_data = pd.merge(train_features, train_labels, on='respondent_id')\n",
        "\n",
        "# Fill missing values with a placeholder value\n",
        "train_data.fillna('-1', inplace=True)\n",
        "test_features.fillna('-1', inplace=True)\n",
        "\n",
        "# Ensure all categorical data are strings\n",
        "categorical_features = ['age_group', 'education', 'race', 'sex', 'income_poverty',\n",
        "                        'marital_status', 'rent_or_own', 'employment_status',\n",
        "                        'hhs_geo_region', 'census_msa', 'employment_industry',\n",
        "                        'employment_occupation']\n",
        "\n",
        "for feature in categorical_features:\n",
        "    train_data[feature] = train_data[feature].astype(str)\n",
        "    test_features[feature] = test_features[feature].astype(str)\n",
        "\n",
        "# Encode categorical features\n",
        "label_encoders = {}\n",
        "for feature in categorical_features:\n",
        "    encoder = LabelEncoder()\n",
        "    train_data[feature] = encoder.fit_transform(train_data[feature])\n",
        "    test_features[feature] = encoder.transform(test_features[feature])\n",
        "    label_encoders[feature] = encoder\n",
        "\n",
        "# Standardize numerical features\n",
        "numerical_features = ['xyz_concern', 'xyz_knowledge', 'opinion_xyz_vacc_effective',\n",
        "                      'opinion_xyz_risk', 'opinion_xyz_sick_from_vacc',\n",
        "                      'opinion_seas_vacc_effective', 'opinion_seas_risk',\n",
        "                      'opinion_seas_sick_from_vacc']\n",
        "\n",
        "scaler = StandardScaler()\n",
        "train_data[numerical_features] = scaler.fit_transform(train_data[numerical_features])\n",
        "test_features[numerical_features] = scaler.transform(test_features[numerical_features])\n",
        "\n",
        "# Define features and labels\n",
        "X_train = train_data.drop(['respondent_id', 'xyz_vaccine', 'seasonal_vaccine'], axis=1)\n",
        "y_train = train_data[['xyz_vaccine', 'seasonal_vaccine']]\n",
        "X_test = test_features.drop(['respondent_id'], axis=1)\n",
        "\n",
        "# Initialize and train model\n",
        "rf = RandomForestClassifier(n_estimators=100, random_state=42)\n",
        "model = MultiOutputClassifier(rf, n_jobs=-1)\n",
        "model.fit(X_train, y_train)\n",
        "\n",
        "# Make predictions\n",
        "predictions = model.predict_proba(X_test)\n",
        "\n",
        "# Prepare submission\n",
        "respondent_ids = test_features['respondent_id']\n",
        "xyz_preds = [pred[1] for pred in predictions[0]]\n",
        "seasonal_preds = [pred[1] for pred in predictions[1]]\n",
        "\n",
        "submission = pd.DataFrame({\n",
        "    'respondent_id': respondent_ids,\n",
        "    'xyz_vaccine': xyz_preds,\n",
        "    'seasonal_vaccine': seasonal_preds\n",
        "})\n",
        "\n",
        "# Save to CSV\n",
        "submission.to_csv('submission_format.csv', index=False)\n",
        "\n",
        "# Evaluate with cross-validation\n",
        "cv_scores_xyz = cross_val_score(rf, X_train, y_train['xyz_vaccine'], cv=5, scoring='roc_auc')\n",
        "cv_scores_seasonal = cross_val_score(rf, X_train, y_train['seasonal_vaccine'], cv=5, scoring='roc_auc')\n",
        "\n",
        "print(f'XYZ Vaccine ROC AUC: {np.mean(cv_scores_xyz)}')\n",
        "print(f'Seasonal Vaccine ROC AUC: {np.mean(cv_scores_seasonal)}')\n",
        "\n",
        "\"\"\" We can use nessesuary libraries pandas,nampy etc and It merges the training features and labels into one dataframe (train_data) using 'respondent_id' as the key for merging. and standardized using StandardScaler() to have zero mean and unit variance. and The code follows the algorithm designed to process categorical and numerical data, train random forest models for multiple labels, make predictions, and evaluate metric-based ROC AUC performance to ensure the data is consistent and suitable for submission to machine learning competitions or the like.\"\"\""
      ]
    }
  ]
}